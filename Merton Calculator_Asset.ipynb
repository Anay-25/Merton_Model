{
 "cells": [
  {
   "cell_type": "markdown",
   "id": "c4918983",
   "metadata": {},
   "source": [
    "# Merton calculator if Asset value and volatility given"
   ]
  },
  {
   "cell_type": "code",
   "execution_count": 20,
   "id": "8a37f3e5",
   "metadata": {},
   "outputs": [
    {
     "data": {
      "application/vnd.jupyter.widget-view+json": {
       "model_id": "c4828a6d0d07464ba71afd058d159b87",
       "version_major": 2,
       "version_minor": 0
      },
      "text/plain": [
       "FloatSlider(value=0.0, description='Debt:', max=50000000.0, step=500000.0)"
      ]
     },
     "metadata": {},
     "output_type": "display_data"
    },
    {
     "data": {
      "application/vnd.jupyter.widget-view+json": {
       "model_id": "37f7f42ceaaf47c9ae19c5d839302d39",
       "version_major": 2,
       "version_minor": 0
      },
      "text/plain": [
       "FloatSlider(value=0.0, description='Asset value:', max=50000000.0, step=500000.0)"
      ]
     },
     "metadata": {},
     "output_type": "display_data"
    },
    {
     "data": {
      "application/vnd.jupyter.widget-view+json": {
       "model_id": "dab579e5088c4b56932a4b765b60696a",
       "version_major": 2,
       "version_minor": 0
      },
      "text/plain": [
       "FloatSlider(value=0.0, description='Asset Volatility:', max=1.0, step=0.01)"
      ]
     },
     "metadata": {},
     "output_type": "display_data"
    },
    {
     "data": {
      "application/vnd.jupyter.widget-view+json": {
       "model_id": "070b41b288b442bab12d9135167d12da",
       "version_major": 2,
       "version_minor": 0
      },
      "text/plain": [
       "FloatSlider(value=0.0, description='Time to Maturity:', max=10.0)"
      ]
     },
     "metadata": {},
     "output_type": "display_data"
    },
    {
     "data": {
      "application/vnd.jupyter.widget-view+json": {
       "model_id": "603b7fbf58894a049bc487e2cabaa75d",
       "version_major": 2,
       "version_minor": 0
      },
      "text/plain": [
       "FloatSlider(value=0.0, description='Rate of interest:', max=1.0, step=0.01)"
      ]
     },
     "metadata": {},
     "output_type": "display_data"
    },
    {
     "data": {
      "application/vnd.jupyter.widget-view+json": {
       "model_id": "471df7737bdb4db6805000f53d66ada7",
       "version_major": 2,
       "version_minor": 0
      },
      "text/plain": [
       "Button(description='Calculate', style=ButtonStyle())"
      ]
     },
     "metadata": {},
     "output_type": "display_data"
    },
    {
     "data": {
      "application/vnd.jupyter.widget-view+json": {
       "model_id": "53e2fcb5f61847d1a1aa575255d8f10f",
       "version_major": 2,
       "version_minor": 0
      },
      "text/plain": [
       "Output()"
      ]
     },
     "metadata": {},
     "output_type": "display_data"
    }
   ],
   "source": [
    "import numpy as np\n",
    "from scipy.stats import norm\n",
    "import ipywidgets as widgets\n",
    "from IPython.display import display\n",
    "\n",
    "def merton_model(B, V0, av, T, r):\n",
    "    d1 = (np.log(V0 / B) + (r + (av * av) / 2) * T) / (av * np.sqrt(T))\n",
    "    d2 = d1 - (av * np.sqrt(T))\n",
    "    return norm.cdf(-d2)\n",
    "\n",
    "def credit_spread(B, V0, av, T, r):\n",
    "    L= (B*np.exp(-r*T))/V0\n",
    "    d1 = (np.log(V0 / B) + (r + (av * av) / 2) * T) / (av * np.sqrt(T))\n",
    "    d2 = d1 - (av * np.sqrt(T))\n",
    "    credit_spread= -np.log(((norm.cdf(d2)+norm.cdf(-d1))/L)/T)\n",
    "    return credit_spread\n",
    "\n",
    "debt_slider = widgets.FloatSlider(min=0, max=50000000, step=500000, description='Debt:')\n",
    "asset_value_slider = widgets.FloatSlider(min=0, max=50000000, step=500000, description='Asset value:')\n",
    "volatility_slider = widgets.FloatSlider(min=0, max=1, step=0.01, description='Asset Volatility:')\n",
    "maturity_slider = widgets.FloatSlider(min=0, max=10, step=0.1, description='Time to Maturity:')\n",
    "roi_slider = widgets.FloatSlider(min=0, max=1, step=0.01, description='Rate of interest:')\n",
    "\n",
    "calculate_button = widgets.Button(description='Calculate')\n",
    "\n",
    "output = widgets.Output()\n",
    "\n",
    "def on_button_click(b):\n",
    "    with output:\n",
    "        prob_default = merton_model(\n",
    "            debt_slider.value, asset_value_slider.value,  volatility_slider.value,  maturity_slider.value, roi_slider.value\n",
    "        )\n",
    "        \n",
    "        cred = credit_spread(\n",
    "            debt_slider.value, asset_value_slider.value,  volatility_slider.value,  maturity_slider.value, roi_slider.value\n",
    "        )\n",
    "        print(f\"Probability of default: {prob_default:.4f}, Credit spread:{cred:.2f}\")\n",
    "\n",
    "calculate_button.on_click(on_button_click)\n",
    "display(debt_slider, asset_value_slider, volatility_slider, maturity_slider, roi_slider, calculate_button, output)\n"
   ]
  }
 ],
 "metadata": {
  "kernelspec": {
   "display_name": "Python 3 (ipykernel)",
   "language": "python",
   "name": "python3"
  },
  "language_info": {
   "codemirror_mode": {
    "name": "ipython",
    "version": 3
   },
   "file_extension": ".py",
   "mimetype": "text/x-python",
   "name": "python",
   "nbconvert_exporter": "python",
   "pygments_lexer": "ipython3",
   "version": "3.10.9"
  }
 },
 "nbformat": 4,
 "nbformat_minor": 5
}
