{
 "cells": [
  {
   "cell_type": "markdown",
   "id": "a1ee4108",
   "metadata": {},
   "source": [
    "# Merton calculator if Equity value and volatility given"
   ]
  },
  {
   "cell_type": "code",
   "execution_count": null,
   "id": "e8de54c8",
   "metadata": {},
   "outputs": [
    {
     "data": {
      "application/vnd.jupyter.widget-view+json": {
       "model_id": "a770c9ca23cf4f388e7bb4cb01220376",
       "version_major": 2,
       "version_minor": 0
      },
      "text/plain": [
       "FloatSlider(value=0.0, description='Debt:', max=50000000.0, step=500000.0)"
      ]
     },
     "metadata": {},
     "output_type": "display_data"
    },
    {
     "data": {
      "application/vnd.jupyter.widget-view+json": {
       "model_id": "ebd5cc4e7ce94fd790af2bc26742b2f4",
       "version_major": 2,
       "version_minor": 0
      },
      "text/plain": [
       "FloatSlider(value=0.0, description='Equity value:', max=50000000.0, step=500000.0)"
      ]
     },
     "metadata": {},
     "output_type": "display_data"
    },
    {
     "data": {
      "application/vnd.jupyter.widget-view+json": {
       "model_id": "abc645a6ad1340ff9cb4a0b1986dcab3",
       "version_major": 2,
       "version_minor": 0
      },
      "text/plain": [
       "FloatSlider(value=0.0, description='Equity Volatility:', max=1.0, step=0.01)"
      ]
     },
     "metadata": {},
     "output_type": "display_data"
    },
    {
     "data": {
      "application/vnd.jupyter.widget-view+json": {
       "model_id": "2a2d7243255245b0a03bbb1929d6fe70",
       "version_major": 2,
       "version_minor": 0
      },
      "text/plain": [
       "FloatSlider(value=0.0, description='Time to Maturity:', max=10.0)"
      ]
     },
     "metadata": {},
     "output_type": "display_data"
    },
    {
     "data": {
      "application/vnd.jupyter.widget-view+json": {
       "model_id": "d7a1b9a865f64c2a88e738876684b4ba",
       "version_major": 2,
       "version_minor": 0
      },
      "text/plain": [
       "FloatSlider(value=0.0, description='Rate of interest:', max=1.0, step=0.01)"
      ]
     },
     "metadata": {},
     "output_type": "display_data"
    },
    {
     "data": {
      "application/vnd.jupyter.widget-view+json": {
       "model_id": "37d98a2b6db04ce1839f77e797de14f1",
       "version_major": 2,
       "version_minor": 0
      },
      "text/plain": [
       "Button(description='Probability of default', style=ButtonStyle())"
      ]
     },
     "metadata": {},
     "output_type": "display_data"
    },
    {
     "data": {
      "application/vnd.jupyter.widget-view+json": {
       "model_id": "c4dfff06202247d9993dcdb9e51f607e",
       "version_major": 2,
       "version_minor": 0
      },
      "text/plain": [
       "Button(description='Credit spread', style=ButtonStyle())"
      ]
     },
     "metadata": {},
     "output_type": "display_data"
    },
    {
     "data": {
      "application/vnd.jupyter.widget-view+json": {
       "model_id": "1d20cae342d14478b5d26f4d115d6486",
       "version_major": 2,
       "version_minor": 0
      },
      "text/plain": [
       "Button(description='Expected loss on debt', style=ButtonStyle())"
      ]
     },
     "metadata": {},
     "output_type": "display_data"
    },
    {
     "data": {
      "application/vnd.jupyter.widget-view+json": {
       "model_id": "aebc506e93894ae589c132805016b803",
       "version_major": 2,
       "version_minor": 0
      },
      "text/plain": [
       "Output()"
      ]
     },
     "metadata": {},
     "output_type": "display_data"
    }
   ],
   "source": [
    "import numpy as np\n",
    "from scipy.stats import norm\n",
    "from scipy.optimize import fsolve\n",
    "import ipywidgets as widgets\n",
    "from IPython.display import display\n",
    "\n",
    "mu= 0.4\n",
    "\n",
    "def merton_model(B, E0, ae, T, r):\n",
    "    \n",
    "    arr=[]\n",
    "    \n",
    "    def equations(p):\n",
    "        av, V0 = p\n",
    "        d1 = (np.log(V0 / B) + (r + (av ** 2) / 2) * T) / (av * np.sqrt(T))\n",
    "        d2 = (np.log(V0 / B) + (r - (av ** 2) / 2) * T) / (av * np.sqrt(T))\n",
    "\n",
    "        eq1 = V0 * norm.cdf(d1) - B * np.exp(-r * T) * norm.cdf(d2) - E0\n",
    "        eq2 = norm.cdf(d1) * av * V0 - ae * E0\n",
    "        return [eq1, eq2]\n",
    "    \n",
    "    guess_av= ae-0.01\n",
    "    guess_V0= 2*B\n",
    "    \n",
    "    av, V0 = fsolve(equations, (guess_av, guess_V0))\n",
    "\n",
    "    d1 = (np.log(V0/B)+(r+(av*av)/2)*T)/(av*np.sqrt(T))\n",
    "    d2 = d1 -(av*np.sqrt(T))\n",
    "    \n",
    "    Pd= norm.cdf(-d2)\n",
    "    arr.append(Pd)\n",
    "    \n",
    "    L= (B*np.exp(-r*T))/V0\n",
    "    credit_spread= -np.log(((norm.cdf(d2)+norm.cdf(-d1))/L)/T)\n",
    "    arr.append(credit_spread)\n",
    "    \n",
    "    y= credit_spread+r\n",
    "    market_value= V0-E0\n",
    "    promised= B * np.exp(-r * T)\n",
    "    loss=((promised-market_value)/promised)*100\n",
    "    arr.append(loss)\n",
    "\n",
    "    arr.append(V0)\n",
    "    \n",
    "    return arr\n",
    "\n",
    "def asset_value():\n",
    "    V0= arr[3]\n",
    "    \n",
    "    \n",
    "debt_slider = widgets.FloatSlider(min=0, max=50000000, step=500000, description='Debt:')\n",
    "equity_value_slider = widgets.FloatSlider(min=0, max=50000000, step=500000, description='Equity value:')\n",
    "volatility_slider = widgets.FloatSlider(min=0, max=1, step=0.01, description='Equity Volatility:')\n",
    "maturity_slider = widgets.FloatSlider(min=0, max=10, step=0.1, description='Time to Maturity:')\n",
    "roi_slider = widgets.FloatSlider(min=0, max=1, step=0.01, description='Rate of interest:')\n",
    "\n",
    "prob_button = widgets.Button(description='Probability of default')\n",
    "cred_button = widgets.Button(description='Credit spread')\n",
    "loss_button= widgets.Button(description = 'Expected loss on debt')\n",
    "\n",
    "output = widgets.Output()\n",
    "\n",
    "def on_button1_click(b):\n",
    "    with output:\n",
    "        arr = merton_model(\n",
    "            debt_slider.value, equity_value_slider.value,  volatility_slider.value,  maturity_slider.value, roi_slider.value\n",
    "        )\n",
    "        \n",
    "        print(f\"Probability of default: {arr[0]:.4f}\")\n",
    "        \n",
    "def on_button2_click(b):\n",
    "    with output:\n",
    "        arr = merton_model(\n",
    "            debt_slider.value, equity_value_slider.value,  volatility_slider.value,  maturity_slider.value, roi_slider.value\n",
    "        )\n",
    "        \n",
    "        print(f\"Credit spread:{arr[1]:0.4f}\")\n",
    "        \n",
    "def on_button3_click(b):\n",
    "    with output:\n",
    "        arr = merton_model(\n",
    "            debt_slider.value, equity_value_slider.value,  volatility_slider.value,  maturity_slider.value, roi_slider.value\n",
    "        )\n",
    "        \n",
    "        print(f\"Expected loss on debt:{arr[2]:0.4f}%\")        \n",
    "        \n",
    "\n",
    "\n",
    "prob_button.on_click(on_button1_click)\n",
    "cred_button.on_click(on_button2_click)\n",
    "loss_button.on_click(on_button3_click)\n",
    "\n",
    "display(debt_slider, equity_value_slider, volatility_slider, maturity_slider, roi_slider, prob_button, cred_button,loss_button, output)\n",
    "    "
   ]
  },
  {
   "cell_type": "code",
   "execution_count": null,
   "metadata": {},
   "outputs": [],
   "source": []
  }
 ],
 "metadata": {
  "kernelspec": {
   "display_name": "Python 3 (ipykernel)",
   "language": "python",
   "name": "python3"
  },
  "language_info": {
   "codemirror_mode": {
    "name": "ipython",
    "version": 3
   },
   "file_extension": ".py",
   "mimetype": "text/x-python",
   "name": "python",
   "nbconvert_exporter": "python",
   "pygments_lexer": "ipython3",
   "version": "3.10.9"
  }
 },
 "nbformat": 4,
 "nbformat_minor": 5
}
